{
 "cells": [
  {
   "cell_type": "code",
   "execution_count": null,
   "metadata": {},
   "outputs": [
    {
     "name": "stdout",
     "output_type": "stream",
     "text": [
      "loading data\n",
      "train shape: (42000, 784)\n",
      "labels shape: (42000,)\n",
      "PCA k_seg_por_classe: 331\n",
      "Treinando GaussianMixture para a classe: 0\n",
      "Initialization 0\n",
      "Initialization converged. time lapse 43.29717s\t lower bound -86502993.70166.\n",
      "Treinando GaussianMixture para a classe: 1\n",
      "Initialization 0\n",
      "Initialization converged. time lapse 53.12515s\t lower bound -53487752.32521.\n",
      "Treinando GaussianMixture para a classe: 2\n",
      "Initialization 0\n",
      "Initialization converged. time lapse 52.55458s\t lower bound -91793667.08225.\n",
      "Treinando GaussianMixture para a classe: 3\n",
      "Initialization 0\n",
      "Initialization converged. time lapse 48.71820s\t lower bound -90887587.80867.\n",
      "Treinando GaussianMixture para a classe: 4\n",
      "Initialization 0\n",
      "Initialization converged. time lapse 45.55505s\t lower bound -88035917.43640.\n",
      "Treinando GaussianMixture para a classe: 5\n",
      "Initialization 0\n",
      "Initialization converged. time lapse 42.46476s\t lower bound -90459134.87653.\n",
      "Treinando GaussianMixture para a classe: 6\n",
      "Initialization 0\n",
      "Initialization converged. time lapse 45.93536s\t lower bound -77981911.87347.\n",
      "Treinando GaussianMixture para a classe: 7\n",
      "Initialization 0\n",
      "Initialization converged. time lapse 49.03714s\t lower bound -76880354.96722.\n",
      "Treinando GaussianMixture para a classe: 8\n",
      "Initialization 0\n",
      "Initialization converged. time lapse 48.05029s\t lower bound -90996027.21679.\n",
      "Treinando GaussianMixture para a classe: 9\n",
      "Initialization 0\n",
      "Initialization converged. time lapse 63.61756s\t lower bound -77668153.17823.\n"
     ]
    }
   ],
   "source": [
    "from KPrincipalGaussiansClassifier import KPrincipalGaussiansClassifier, MetaParams\n",
    "import pandas as pd\n",
    "\n",
    "def load_data(file_path): \n",
    "    print(\"loading data\")\n",
    "    all_data = pd.read_csv(file_path)\n",
    "    train_data = all_data.to_numpy()[:, 1:]\n",
    "    labels = all_data.to_numpy()[:, 0]\n",
    "    print(f\"train shape: {train_data.shape}\")\n",
    "    print(f\"labels shape: {labels.shape}\")\n",
    "    \n",
    "    return train_data, labels\n",
    "\n",
    "train_data_file_path = 'C:/src/data_analysis/data/digit-recognizer/train.csv'\n",
    "train_data, labels = load_data(train_data_file_path)\n",
    "meta_params = MetaParams(num_classes=10,n_init=2,tol=1e-4,variance_perc_threshold=0.98,k_near_centroids=16) \n",
    "\n",
    "k_prin_gauss_model = KPrincipalGaussiansClassifier(meta_params=meta_params)\n",
    "k_prin_gauss_model.fit(train_data=train_data, labels=labels)\n",
    "\n",
    "\n",
    "\n"
   ]
  },
  {
   "cell_type": "code",
   "execution_count": null,
   "metadata": {},
   "outputs": [],
   "source": [
    "import numpy as np\n",
    "np.save('mahalanobis', [k_prin_gauss_model], allow_pickle=True)"
   ]
  },
  {
   "cell_type": "code",
   "execution_count": 78,
   "metadata": {},
   "outputs": [],
   "source": [
    "from search_optimization import create_hnsw_from_centroids, find_closest_segments\n",
    "# loaded_arr = np.load('99_confidence.npy', allow_pickle=True)\n",
    "\n",
    "import numpy as np\n",
    "from sklearn.metrics import confusion_matrix, ConfusionMatrixDisplay\n",
    "from operation import euclidean_distance_to_segment\n",
    "\n",
    "def validate_segments_with_weights(point, indices, variance_pow=0.5):\n",
    "    \"\"\"\n",
    "    Valida os segmentos considerando as distâncias ajustadas com PCA2 e os pesos das gaussianas.\n",
    "    \n",
    "    segment_weights: array contendo os pesos das gaussianas associadas aos segmentos.\n",
    "    \"\"\"\n",
    "    min_adjusted_distance = float('inf')\n",
    "    best_index = -1\n",
    "\n",
    "    for idx in indices:\n",
    "        A, B = self.all_segments[idx]\n",
    "        distance = euclidean_distance_to_segment(P=point, A=A, B=B)\n",
    "        \n",
    "        # Ajustar distância com PCA2 e peso gaussiano\n",
    "        variance_weight = self.all_pc2_variances[idx] ** variance_pow\n",
    "        adjusted_distance = distance / variance_weight\n",
    "        \n",
    "        if adjusted_distance < min_adjusted_distance:\n",
    "            min_adjusted_distance = adjusted_distance\n",
    "            best_index = idx\n",
    "\n",
    "    return best_index\n",
    "    \n",
    "num_samples = 10000\n",
    "validation_data = train_data[:num_samples,:]\n",
    "labels_v = labels[:num_samples]\n",
    "k_prin_gauss_model.k_near_centroids = 5\n",
    "predictions = k_prin_gauss_model.predict(validation_data, variance_pow=0, weight_pow=0)\n",
    "prev5_true3 = validation_data[(predictions == 5) & (labels_v == 3)]\n",
    "print(prev5_true3)\n",
    "p = k_prin_gauss_model.pca.transform(prev5_true3[0].reshape(1,-1))\n",
    "distances_segs = []\n",
    "pc2 = []\n",
    "transformed = []\n",
    "indices, distances = k_prin_gauss_model.hnsw.knn_query(p , k=5)  # Busca os k centroides mais próximos\n",
    "classes = indices // k_prin_gauss_model.k_segments_per_class\n",
    "\n",
    "\n",
    "info_point = np.vstack([classes, distances, distances_segs, pc2, transformed])\n",
    "    \n",
    "# # Compute confusion matrix\n",
    "# cm = confusion_matrix(labels_v, predictions)\n",
    "\n",
    "# # Display the confusion matrix\n",
    "# disp = ConfusionMatrixDisplay(confusion_matrix=cm)\n",
    "# disp.plot()"
   ]
  },
  {
   "cell_type": "code",
   "execution_count": 82,
   "metadata": {},
   "outputs": [
    {
     "data": {
      "text/plain": [
       "np.int64(331)"
      ]
     },
     "execution_count": 82,
     "metadata": {},
     "output_type": "execute_result"
    }
   ],
   "source": []
  },
  {
   "cell_type": "code",
   "execution_count": null,
   "metadata": {},
   "outputs": [
    {
     "name": "stderr",
     "output_type": "stream",
     "text": [
      "28000it [00:13, 2072.53it/s]\n"
     ]
    }
   ],
   "source": [
    "''' Gerar submissão '''\n",
    "loaded_arr = np.load('99_confidence.npy', allow_pickle=True)\n",
    "\n",
    "kgm = loaded_arr[0]  \n",
    "file_path = '../data/digit-recognizer/test.csv' \n",
    "test_data = pd.read_csv(file_path)\n",
    "data_points = test_data.to_numpy()\n",
    " \n",
    "test_data.loc[:, \"Label\"] = kgm.predict(data_points).astype(int)\n",
    "answer = test_data[[\"Label\"]].copy()  \n",
    "answer[\"ImageId\"] = range(1, len(answer) + 1)  \n",
    "answer = answer[[\"ImageId\", \"Label\"]]\n",
    "\n",
    "# Save to CSV\n",
    "output_file = \"submission.csv\"\n",
    "answer.to_csv(output_file, index=False)"
   ]
  }
 ],
 "metadata": {
  "kernelspec": {
   "display_name": "venv",
   "language": "python",
   "name": "python3"
  },
  "language_info": {
   "codemirror_mode": {
    "name": "ipython",
    "version": 3
   },
   "file_extension": ".py",
   "mimetype": "text/x-python",
   "name": "python",
   "nbconvert_exporter": "python",
   "pygments_lexer": "ipython3",
   "version": "3.10.11"
  }
 },
 "nbformat": 4,
 "nbformat_minor": 2
}
